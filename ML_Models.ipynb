{
 "cells": [
  {
   "cell_type": "markdown",
   "metadata": {},
   "source": [
    "<div align=\"left\">\n",
    "   <img src=\"https://usfdons.com/images/responsive/footer_usfca.png\" style=\"width:250px;\">\n",
    "</div>\n",
    "<div align=\"center\"><b>MSDS697 Distributed Data Systems</b></div>\n",
    "\n",
    "**Authors:** Anush Kocharyan, Jyoti Prakash Maheswari, Viviana Márquez, Wenkun Xiao<br>\n",
    "<hr>"
   ]
  },
  {
   "cell_type": "markdown",
   "metadata": {},
   "source": [
    "# Running ML models on feature data on m3.xlarge instance"
   ]
  },
  {
   "cell_type": "markdown",
   "metadata": {
    "ExecuteTime": {
     "end_time": "2019-01-18T20:09:13.563460Z",
     "start_time": "2019-01-18T20:09:13.559312Z"
    }
   },
   "source": [
    "###  Load libraries"
   ]
  },
  {
   "cell_type": "code",
   "execution_count": 1,
   "metadata": {
    "ExecuteTime": {
     "end_time": "2019-01-18T21:25:56.321738Z",
     "start_time": "2019-01-18T21:25:56.180225Z"
    }
   },
   "outputs": [],
   "source": [
    "from pyspark import SparkContext, SparkConf\n",
    "from pyspark.sql import SparkSession\n",
    "from pyspark.sql import Row\n",
    "from pyspark.sql.types import *\n",
    "from pyspark.sql import SQLContext\n",
    "from pyspark.ml.feature import VectorAssembler\n",
    "from pyspark.ml.regression import LinearRegression\n",
    "from pyspark.ml.regression import DecisionTreeRegressor\n",
    "from pyspark.ml.regression import RandomForestRegressor\n",
    "\n",
    "from pyspark.ml.evaluation import RegressionEvaluator\n",
    "\n",
    "# n-fold validation and the results.\n",
    "from pyspark.ml.tuning import CrossValidator\n",
    "from pyspark.ml.tuning import ParamGridBuilder"
   ]
  },
  {
   "cell_type": "markdown",
   "metadata": {},
   "source": [
    "### Getting data from Mongodb"
   ]
  },
  {
   "cell_type": "code",
   "execution_count": 2,
   "metadata": {
    "ExecuteTime": {
     "end_time": "2019-01-18T21:25:56.548292Z",
     "start_time": "2019-01-18T21:25:56.326182Z"
    }
   },
   "outputs": [],
   "source": [
    "import numpy as np\n",
    "import pandas as pd\n",
    "import os\n",
    "pyspark_submit_args = '--packages org.mongodb.spark:mongo-spark-connector_2.11:2.4.0 pyspark-shell'\n",
    "os.environ[\"PYSPARK_SUBMIT_ARGS\"] = pyspark_submit_args\n",
    "from pyspark.sql import SparkSession\n",
    "\n",
    "spark = SparkSession \\\n",
    "  .builder \\\n",
    "  .appName(\"myApp\") \\\n",
    "  .config(\"spark.mongodb.input.uri\", \"mongodb://18.221.66.227/project.test\")\\\n",
    "  .getOrCreate()"
   ]
  },
  {
   "cell_type": "markdown",
   "metadata": {},
   "source": [
    "###  The feature data consists of 340000 rows"
   ]
  },
  {
   "cell_type": "code",
   "execution_count": 3,
   "metadata": {
    "ExecuteTime": {
     "end_time": "2019-01-18T21:26:31.303915Z",
     "start_time": "2019-01-18T21:26:20.327919Z"
    }
   },
   "outputs": [],
   "source": [
    "df = spark.read.format(\"com.mongodb.spark.sql.DefaultSource\").load()"
   ]
  },
  {
   "cell_type": "code",
   "execution_count": 4,
   "metadata": {
    "ExecuteTime": {
     "end_time": "2019-01-18T21:27:04.605068Z",
     "start_time": "2019-01-18T21:26:37.131890Z"
    }
   },
   "outputs": [
    {
     "data": {
      "text/plain": [
       "340000"
      ]
     },
     "execution_count": 4,
     "metadata": {},
     "output_type": "execute_result"
    }
   ],
   "source": [
    "df.count()"
   ]
  },
  {
   "cell_type": "markdown",
   "metadata": {},
   "source": [
    "###  Splitting the data into training and test sets"
   ]
  },
  {
   "cell_type": "code",
   "execution_count": 5,
   "metadata": {
    "ExecuteTime": {
     "end_time": "2019-01-18T21:27:13.783754Z",
     "start_time": "2019-01-18T21:27:13.721233Z"
    }
   },
   "outputs": [],
   "source": [
    "df_train, df_test = df.randomSplit([0.8,0.2])"
   ]
  },
  {
   "cell_type": "code",
   "execution_count": 6,
   "metadata": {
    "ExecuteTime": {
     "end_time": "2019-01-18T21:27:20.114708Z",
     "start_time": "2019-01-18T21:27:16.351893Z"
    }
   },
   "outputs": [
    {
     "name": "stdout",
     "output_type": "stream",
     "text": [
      "+--------------------+-------+-------+---------------+---------------+--------------+--------------+---------+-----+---------------+---------------+--------------+--------------+------------------+---------------+-----------------+--------------------+-----------------+----------------------------+----------------------------+---------------------------+---------------------------+------+---------------+---------------+--------------+--------------+---+---+---+---+---+---+---+----+----+-----------------+------------------+-----------------+------------------+-----------------+--------+------------------+\n",
      "|                 _id|abs_max|abs_min|avg_first_10000|avg_first_50000|avg_last_10000|avg_last_50000|count_big| max1|max_first_10000|max_first_50000|max_last_10000|max_last_50000|        max_to_min|max_to_min_diff|             mean|     mean_change_abs| mean_change_rate|mean_change_rate_first_10000|mean_change_rate_first_50000|mean_change_rate_last_10000|mean_change_rate_last_50000|  min1|min_first_10000|min_first_50000|min_last_10000|min_last_50000|q60|q65|q70|q75|q80|q85|q90| q95| q99|              std|   std_first_10000|  std_first_50000|    std_last_10000|   std_last_50000|    sum1|          y_target|\n",
      "+--------------------+-------+-------+---------------+---------------+--------------+--------------+---------+-----+---------------+---------------+--------------+--------------+------------------+---------------+-----------------+--------------------+-----------------+----------------------------+----------------------------+---------------------------+---------------------------+------+---------------+---------------+--------------+--------------+---+---+---+---+---+---+---+----+----+-----------------+------------------+-----------------+------------------+-----------------+--------+------------------+\n",
      "|[5c415c7f368a001b...|  116.0|    0.0|         4.7647|        4.63932|        4.4771|        4.6246|      0.0|116.0|           24.0|          116.0|          15.0|          52.0|1.0841121495327102|            9.0|4.621886666666667|6.666711111407409...|75033.07005602348|          4998.4775538250115|           25061.05225056521|          5004.106663608212|         25018.044925847214|-107.0|           -9.0|          -82.0|          -9.0|         -44.0|5.0|6.0|6.0|7.0|7.0|8.0|8.0|10.0|14.0|4.187078174633104|3.1314747180841174|4.687006500699567|2.8174590662510077|4.113280301657061|693283.0|12.911298210999998|\n",
      "+--------------------+-------+-------+---------------+---------------+--------------+--------------+---------+-----+---------------+---------------+--------------+--------------+------------------+---------------+-----------------+--------------------+-----------------+----------------------------+----------------------------+---------------------------+---------------------------+------+---------------+---------------+--------------+--------------+---+---+---+---+---+---+---+----+----+-----------------+------------------+-----------------+------------------+-----------------+--------+------------------+\n",
      "only showing top 1 row\n",
      "\n"
     ]
    }
   ],
   "source": [
    "df_train.show(1)"
   ]
  },
  {
   "cell_type": "code",
   "execution_count": 7,
   "metadata": {
    "ExecuteTime": {
     "end_time": "2019-01-18T21:27:31.571300Z",
     "start_time": "2019-01-18T21:27:31.542074Z"
    }
   },
   "outputs": [
    {
     "data": {
      "text/plain": [
       "['abs_max',\n",
       " 'abs_min',\n",
       " 'avg_first_10000',\n",
       " 'avg_first_50000',\n",
       " 'avg_last_10000',\n",
       " 'avg_last_50000',\n",
       " 'count_big',\n",
       " 'max1',\n",
       " 'max_first_10000',\n",
       " 'max_first_50000',\n",
       " 'max_last_10000',\n",
       " 'max_last_50000',\n",
       " 'max_to_min',\n",
       " 'max_to_min_diff',\n",
       " 'mean',\n",
       " 'mean_change_abs',\n",
       " 'mean_change_rate',\n",
       " 'mean_change_rate_first_10000',\n",
       " 'mean_change_rate_first_50000',\n",
       " 'mean_change_rate_last_10000',\n",
       " 'mean_change_rate_last_50000',\n",
       " 'min1',\n",
       " 'min_first_10000',\n",
       " 'min_first_50000',\n",
       " 'min_last_10000',\n",
       " 'min_last_50000',\n",
       " 'q60',\n",
       " 'q65',\n",
       " 'q70',\n",
       " 'q75',\n",
       " 'q80',\n",
       " 'q85',\n",
       " 'q90',\n",
       " 'q95',\n",
       " 'q99',\n",
       " 'std',\n",
       " 'std_first_10000',\n",
       " 'std_first_50000',\n",
       " 'std_last_10000',\n",
       " 'std_last_50000',\n",
       " 'sum1']"
      ]
     },
     "execution_count": 7,
     "metadata": {},
     "output_type": "execute_result"
    }
   ],
   "source": [
    "feature_names = df_train.columns[1:-1]\n",
    "feature_names"
   ]
  },
  {
   "cell_type": "markdown",
   "metadata": {},
   "source": [
    "### Creating a feature vector assembler"
   ]
  },
  {
   "cell_type": "code",
   "execution_count": 8,
   "metadata": {
    "ExecuteTime": {
     "end_time": "2019-01-18T21:28:01.613871Z",
     "start_time": "2019-01-18T21:28:00.370599Z"
    }
   },
   "outputs": [],
   "source": [
    "va = VectorAssembler(outputCol=\"features\", inputCols=df_train.columns[1:-1])\n",
    "df_train = va.transform(df_train).select(\"features\", \"y_target\").persist()\n",
    "df_test = va.transform(df_test).select(\"features\", \"y_target\").persist()"
   ]
  },
  {
   "cell_type": "code",
   "execution_count": 9,
   "metadata": {
    "ExecuteTime": {
     "end_time": "2019-01-18T21:28:10.326800Z",
     "start_time": "2019-01-18T21:28:06.659473Z"
    }
   },
   "outputs": [
    {
     "name": "stdout",
     "output_type": "stream",
     "text": [
      "+--------------------+------------------+\n",
      "|            features|          y_target|\n",
      "+--------------------+------------------+\n",
      "|[116.0,0.0,4.7647...|12.911298210999998|\n",
      "+--------------------+------------------+\n",
      "only showing top 1 row\n",
      "\n"
     ]
    }
   ],
   "source": [
    "df_train.show(1)"
   ]
  },
  {
   "cell_type": "markdown",
   "metadata": {
    "ExecuteTime": {
     "end_time": "2019-01-18T21:05:56.948835Z",
     "start_time": "2019-01-18T21:05:56.938321Z"
    }
   },
   "source": [
    "### Set one evaluator for all algrithms, metric: RMSE on validation set"
   ]
  },
  {
   "cell_type": "code",
   "execution_count": 10,
   "metadata": {
    "ExecuteTime": {
     "end_time": "2019-01-18T21:28:20.835028Z",
     "start_time": "2019-01-18T21:28:20.812638Z"
    }
   },
   "outputs": [],
   "source": [
    "evaluator=RegressionEvaluator(labelCol=\"y_target\",predictionCol=\"prediction\", metricName=\"rmse\")"
   ]
  },
  {
   "cell_type": "markdown",
   "metadata": {},
   "source": [
    "### Decision Tree Regressor "
   ]
  },
  {
   "cell_type": "code",
   "execution_count": 26,
   "metadata": {
    "ExecuteTime": {
     "end_time": "2019-01-18T21:49:55.271292Z",
     "start_time": "2019-01-18T21:49:52.339467Z"
    }
   },
   "outputs": [],
   "source": [
    "dt_reg = DecisionTreeRegressor(featuresCol = 'features', labelCol='y_target')\n",
    "dt_regModel = dt_reg.fit(df_train)\n",
    "dt_reg_preds = dt_regModel.transform(df_test)"
   ]
  },
  {
   "cell_type": "code",
   "execution_count": 13,
   "metadata": {
    "ExecuteTime": {
     "end_time": "2019-01-18T21:29:48.286670Z",
     "start_time": "2019-01-18T21:29:48.202633Z"
    }
   },
   "outputs": [
    {
     "data": {
      "text/plain": [
       "[('q99', 0.6989),\n",
       " ('q95', 0.1568),\n",
       " ('min1', 0.0498),\n",
       " ('mean', 0.0467),\n",
       " ('max1', 0.0101),\n",
       " ('q85', 0.008),\n",
       " ('std', 0.0078),\n",
       " ('q90', 0.005),\n",
       " ('max_to_min_diff', 0.0041),\n",
       " ('abs_max', 0.0039),\n",
       " ('q80', 0.0032),\n",
       " ('max_first_50000', 0.0024),\n",
       " ('max_last_50000', 0.0019),\n",
       " ('mean_change_rate', 0.0013)]"
      ]
     },
     "execution_count": 13,
     "metadata": {},
     "output_type": "execute_result"
    }
   ],
   "source": [
    "dt_reg_feature_importance = zip([feature_names[i] for i in dt_regModel.featureImportances.indices],\\\n",
    "                                dt_regModel.featureImportances.values)\n",
    "dt_reg_feature_importance.sort(key = lambda x: abs(x[1]),reverse=True)\n",
    "[(x[0],round(x[1],4))for x in dt_reg_feature_importance]"
   ]
  },
  {
   "cell_type": "code",
   "execution_count": 23,
   "metadata": {
    "ExecuteTime": {
     "end_time": "2019-01-18T21:36:16.469473Z",
     "start_time": "2019-01-18T21:36:16.265899Z"
    }
   },
   "outputs": [
    {
     "name": "stdout",
     "output_type": "stream",
     "text": [
      "Decision tree model RMSE on test set = 2.2827\n"
     ]
    }
   ],
   "source": [
    "dt_reg_RMSE_test = evaluator.evaluate(dt_reg_preds)\n",
    "print(\"Decision tree model RMSE on test set = \"+ '{:.4f}'.format(dt_reg_RMSE_test))"
   ]
  },
  {
   "cell_type": "markdown",
   "metadata": {
    "ExecuteTime": {
     "end_time": "2019-01-18T19:22:36.622320Z",
     "start_time": "2019-01-18T19:22:11.326216Z"
    }
   },
   "source": [
    "### Linear Regression"
   ]
  },
  {
   "cell_type": "code",
   "execution_count": 27,
   "metadata": {
    "ExecuteTime": {
     "end_time": "2019-01-18T21:50:21.400924Z",
     "start_time": "2019-01-18T21:50:19.670812Z"
    }
   },
   "outputs": [],
   "source": [
    "lr = LinearRegression(featuresCol = 'features', labelCol='y_target',\n",
    "                      maxIter=10, regParam=0.3, elasticNetParam=0.8)\n",
    "lrModel = lr.fit(df_train)\n",
    "lr_preds = lrModel.transform(df_test)"
   ]
  },
  {
   "cell_type": "code",
   "execution_count": 16,
   "metadata": {
    "ExecuteTime": {
     "end_time": "2019-01-18T21:30:49.819403Z",
     "start_time": "2019-01-18T21:30:49.790672Z"
    }
   },
   "outputs": [
    {
     "data": {
      "text/plain": [
       "[('intercept', 25.6455),\n",
       " ('q80', -3.067),\n",
       " ('mean', 2.1892),\n",
       " ('q85', -1.0524),\n",
       " ('q75', -0.6852),\n",
       " ('q90', -0.6503),\n",
       " ('avg_last_50000', 0.4187),\n",
       " ('avg_first_50000', 0.3158),\n",
       " ('count_big', 0.0095),\n",
       " ('std_first_50000', 0.0071),\n",
       " ('std_last_50000', -0.0013),\n",
       " ('max_last_10000', -0.0011),\n",
       " ('min_last_50000', 0.0004),\n",
       " ('std_last_10000', -0.0004),\n",
       " ('max_first_50000', 0.0003),\n",
       " ('min_last_10000', 0.0003),\n",
       " ('min_first_50000', -0.0002),\n",
       " ('max_last_50000', -0.0001)]"
      ]
     },
     "execution_count": 16,
     "metadata": {},
     "output_type": "execute_result"
    }
   ],
   "source": [
    "# feature_names x coefficients\n",
    "beta0 = [('intercept',round(lrModel.intercept,4))]\n",
    "beta1 = [(x[0],round(x[1],4)) for x in zip(feature_names,lrModel.coefficients) if abs(x[1])>0.0001]\n",
    "beta1.sort(key = lambda x: abs(x[1]),reverse=True)\n",
    "beta0+beta1"
   ]
  },
  {
   "cell_type": "code",
   "execution_count": 22,
   "metadata": {
    "ExecuteTime": {
     "end_time": "2019-01-18T21:36:07.622021Z",
     "start_time": "2019-01-18T21:36:07.351770Z"
    }
   },
   "outputs": [
    {
     "name": "stdout",
     "output_type": "stream",
     "text": [
      "Linear model RMSE on test set = 2.9032\n"
     ]
    }
   ],
   "source": [
    "lr_preds = lrModel.transform(df_test)\n",
    "lr_RMSE_test = evaluator.evaluate(lr_preds)\n",
    "print(\"Linear model RMSE on test set = \"+ '{:.4f}'.format(lr_RMSE_test))"
   ]
  },
  {
   "cell_type": "markdown",
   "metadata": {},
   "source": [
    "### Random Forest Regression"
   ]
  },
  {
   "cell_type": "code",
   "execution_count": 28,
   "metadata": {
    "ExecuteTime": {
     "end_time": "2019-01-18T21:50:43.979904Z",
     "start_time": "2019-01-18T21:50:36.506731Z"
    }
   },
   "outputs": [],
   "source": [
    "rf_reg = RandomForestRegressor(featuresCol = 'features', labelCol='y_target')\n",
    "rf_regModel = rf_reg.fit(df_train)\n",
    "rf_reg_preds = rf_regModel.transform(df_test)"
   ]
  },
  {
   "cell_type": "code",
   "execution_count": 24,
   "metadata": {
    "ExecuteTime": {
     "end_time": "2019-01-18T21:38:41.463438Z",
     "start_time": "2019-01-18T21:38:41.419785Z"
    }
   },
   "outputs": [
    {
     "data": {
      "text/plain": [
       "[('q99', 0.2708),\n",
       " ('q95', 0.2352),\n",
       " ('q90', 0.2287),\n",
       " ('std', 0.0506),\n",
       " ('q80', 0.036),\n",
       " ('q85', 0.0298),\n",
       " ('sum1', 0.0277),\n",
       " ('mean', 0.0274),\n",
       " ('std_first_50000', 0.0195),\n",
       " ('std_first_10000', 0.0142),\n",
       " ('min1', 0.0102),\n",
       " ('max_to_min_diff', 0.01),\n",
       " ('abs_max', 0.0082),\n",
       " ('max1', 0.0069),\n",
       " ('avg_first_50000', 0.0066),\n",
       " ('max_to_min', 0.0047),\n",
       " ('avg_last_50000', 0.0045),\n",
       " ('max_last_50000', 0.0011),\n",
       " ('avg_first_10000', 0.0011),\n",
       " ('avg_last_10000', 0.0011),\n",
       " ('q75', 0.001)]"
      ]
     },
     "execution_count": 24,
     "metadata": {},
     "output_type": "execute_result"
    }
   ],
   "source": [
    "rf_reg_feature_importance = zip([feature_names[i] for i in rf_regModel.featureImportances.indices],\\\n",
    "                                rf_regModel.featureImportances.values)\n",
    "rf_reg_feature_importance.sort(key = lambda x: abs(x[1]),reverse=True)\n",
    "[(x[0],round(x[1],4)) for x in rf_reg_feature_importance if x[1]>0.001]\n",
    "\n"
   ]
  },
  {
   "cell_type": "code",
   "execution_count": 25,
   "metadata": {
    "ExecuteTime": {
     "end_time": "2019-01-18T21:39:03.343926Z",
     "start_time": "2019-01-18T21:39:02.971446Z"
    }
   },
   "outputs": [
    {
     "name": "stdout",
     "output_type": "stream",
     "text": [
      "Random Forest model RMSE on test set = 2.2273\n"
     ]
    }
   ],
   "source": [
    "rf_reg_preds = rf_regModel.transform(df_test)\n",
    "rf_reg_RMSE_test = evaluator.evaluate(rf_reg_preds)\n",
    "print(\"Random Forest model RMSE on test set = \"+ '{:.4f}'.format(rf_reg_RMSE_test))"
   ]
  }
 ],
 "metadata": {
  "kernelspec": {
   "display_name": "Python 3",
   "language": "python",
   "name": "python3"
  },
  "language_info": {
   "codemirror_mode": {
    "name": "ipython",
    "version": 3
   },
   "file_extension": ".py",
   "mimetype": "text/x-python",
   "name": "python",
   "nbconvert_exporter": "python",
   "pygments_lexer": "ipython3",
   "version": "3.6.8"
  }
 },
 "nbformat": 4,
 "nbformat_minor": 2
}
